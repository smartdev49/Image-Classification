{
 "cells": [
  {
   "cell_type": "code",
   "execution_count": 1,
   "metadata": {},
   "outputs": [],
   "source": [
    "import pandas as pd\n",
    "import numpy as np\n",
    "import matplotlib as plt"
   ]
  },
  {
   "cell_type": "code",
   "execution_count": 2,
   "metadata": {},
   "outputs": [
    {
     "name": "stderr",
     "output_type": "stream",
     "text": [
      "C:\\Users\\kingsumedh\\Anaconda3\\lib\\site-packages\\h5py\\__init__.py:36: FutureWarning: Conversion of the second argument of issubdtype from `float` to `np.floating` is deprecated. In future, it will be treated as `np.float64 == np.dtype(float).type`.\n",
      "  from ._conv import register_converters as _register_converters\n",
      "Using TensorFlow backend.\n"
     ]
    }
   ],
   "source": [
    "import keras"
   ]
  },
  {
   "cell_type": "code",
   "execution_count": 3,
   "metadata": {},
   "outputs": [],
   "source": [
    "from keras.models import Sequential\n",
    "from keras.layers import Convolution2D\n",
    "from keras.layers import MaxPooling2D\n",
    "from keras.layers import Flatten\n",
    "from keras.layers import Dense\n",
    "from keras.layers import Dropout\n",
    "from keras.callbacks import ModelCheckpoint"
   ]
  },
  {
   "cell_type": "code",
   "execution_count": 4,
   "metadata": {},
   "outputs": [
    {
     "name": "stdout",
     "output_type": "stream",
     "text": [
      "[name: \"/device:CPU:0\"\n",
      "device_type: \"CPU\"\n",
      "memory_limit: 268435456\n",
      "locality {\n",
      "}\n",
      "incarnation: 8971710229675840685\n",
      ", name: \"/device:GPU:0\"\n",
      "device_type: \"GPU\"\n",
      "memory_limit: 6693025874\n",
      "locality {\n",
      "  bus_id: 1\n",
      "  links {\n",
      "  }\n",
      "}\n",
      "incarnation: 16635881572180255535\n",
      "physical_device_desc: \"device: 0, name: GeForce GTX 1070, pci bus id: 0000:01:00.0, compute capability: 6.1\"\n",
      "]\n"
     ]
    }
   ],
   "source": [
    "from tensorflow.python.client import device_lib\n",
    "print(device_lib.list_local_devices())"
   ]
  },
  {
   "cell_type": "code",
   "execution_count": 5,
   "metadata": {},
   "outputs": [],
   "source": [
    "from keras.preprocessing.image import ImageDataGenerator\n",
    "from PIL import Image"
   ]
  },
  {
   "cell_type": "code",
   "execution_count": 6,
   "metadata": {},
   "outputs": [],
   "source": [
    "train_datagen = ImageDataGenerator(rescale=1./255,\n",
    "                                  shear_range=0.2,\n",
    "                                  zoom_range=0.2,\n",
    "                                  horizontal_flip=True)"
   ]
  },
  {
   "cell_type": "code",
   "execution_count": 7,
   "metadata": {},
   "outputs": [],
   "source": [
    "test_datagen = ImageDataGenerator(rescale=1./255)"
   ]
  },
  {
   "cell_type": "code",
   "execution_count": 8,
   "metadata": {},
   "outputs": [
    {
     "name": "stdout",
     "output_type": "stream",
     "text": [
      "Found 2336 images belonging to 10 classes.\n"
     ]
    }
   ],
   "source": [
    "training_set = train_datagen.flow_from_directory('D:/Fall 18/Neural Networks/Project/Dataset for Tensorflow/Train',\n",
    "                                                 target_size=(256, 256),\n",
    "                                                 batch_size= 32,\n",
    "                                                 class_mode='categorical')"
   ]
  },
  {
   "cell_type": "code",
   "execution_count": 9,
   "metadata": {},
   "outputs": [
    {
     "name": "stdout",
     "output_type": "stream",
     "text": [
      "Found 549 images belonging to 10 classes.\n"
     ]
    }
   ],
   "source": [
    "test_set = test_datagen.flow_from_directory('D:/Fall 18/Neural Networks/Project/Dataset for Tensorflow/Test',\n",
    "                                                        target_size = (256, 256),\n",
    "                                                        batch_size = 32,\n",
    "                                                        class_mode = 'categorical')"
   ]
  },
  {
   "cell_type": "code",
   "execution_count": 10,
   "metadata": {},
   "outputs": [],
   "source": [
    "classifier = Sequential()"
   ]
  },
  {
   "cell_type": "code",
   "execution_count": 11,
   "metadata": {},
   "outputs": [],
   "source": [
    "#Creating the method for model\n",
    "#Step 1- Convolution\n",
    "classifier.add(Convolution2D(128, (3, 3), input_shape = (256, 256,3), activation = 'tanh'))\n",
    "classifier.add(Convolution2D(64, (3, 3), input_shape = (256, 256,3), activation = 'tanh'))\n",
    "\n",
    "#adding another layer\n",
    "classifier.add(Convolution2D(32, (3, 3), activation = 'tanh'))\n",
    "\n",
    "#Pooling it\n",
    "classifier.add(MaxPooling2D(pool_size = (2, 2)))\n",
    "\n",
    "#Adding another layer\n",
    "classifier.add(Convolution2D(32, (3, 3), activation = 'tanh'))\n",
    "\n",
    "\n",
    "#Pooling\n",
    "classifier.add(MaxPooling2D(pool_size = (2, 2)))\n",
    "\n",
    "#Adding another layer\n",
    "#classifier.add(Convolution2D(32, (3, 3), activation = 'relu'))\n",
    "\n",
    "\n",
    "#Pooling\n",
    "#classifier.add(MaxPooling2D(pool_size = (2, 2)))\n",
    "#Step 3- Flattening\n",
    "classifier.add(Flatten())\n",
    "\n",
    "#Step 4- Full connection\n",
    "classifier.add(Dense(units = 128, activation = 'tanh'))\n",
    "\n",
    "#For the output step\n",
    "classifier.add(Dense(units = 10, activation = 'softmax'))\n",
    "classifier.add(Dropout(0.01))"
   ]
  },
  {
   "cell_type": "code",
   "execution_count": 12,
   "metadata": {},
   "outputs": [],
   "source": [
    "classifier.compile(optimizer = 'adam',loss = 'categorical_crossentropy', metrics = ['accuracy'])"
   ]
  },
  {
   "cell_type": "code",
   "execution_count": 13,
   "metadata": {},
   "outputs": [
    {
     "name": "stdout",
     "output_type": "stream",
     "text": [
      "Epoch 1/32\n",
      "73/73 [==============================] - 31s 431ms/step - loss: 2.8093 - acc: 0.3005 - val_loss: 1.9850 - val_acc: 0.2914\n",
      "Epoch 2/32\n",
      "73/73 [==============================] - 26s 356ms/step - loss: 2.0222 - acc: 0.2967 - val_loss: 1.9968 - val_acc: 0.2914\n",
      "Epoch 3/32\n",
      "73/73 [==============================] - 26s 358ms/step - loss: 2.0714 - acc: 0.2941 - val_loss: 1.9678 - val_acc: 0.1840\n",
      "Epoch 4/32\n",
      "73/73 [==============================] - 26s 356ms/step - loss: 2.0329 - acc: 0.2838 - val_loss: 1.9950 - val_acc: 0.1840\n",
      "Epoch 5/32\n",
      "73/73 [==============================] - 26s 358ms/step - loss: 2.0723 - acc: 0.2787 - val_loss: 1.9942 - val_acc: 0.2914\n",
      "Epoch 6/32\n",
      "73/73 [==============================] - 26s 357ms/step - loss: 2.0498 - acc: 0.3035 - val_loss: 2.0081 - val_acc: 0.2914\n",
      "Epoch 7/32\n",
      "73/73 [==============================] - 26s 357ms/step - loss: 2.0289 - acc: 0.2838 - val_loss: 2.0071 - val_acc: 0.1840\n",
      "Epoch 8/32\n",
      "73/73 [==============================] - 26s 358ms/step - loss: 2.0393 - acc: 0.2830 - val_loss: 2.0076 - val_acc: 0.1840\n",
      "Epoch 9/32\n",
      "73/73 [==============================] - 26s 357ms/step - loss: 2.0298 - acc: 0.2864 - val_loss: 2.0066 - val_acc: 0.1840\n",
      "Epoch 10/32\n",
      "73/73 [==============================] - 26s 356ms/step - loss: 2.0586 - acc: 0.2890 - val_loss: 2.0295 - val_acc: 0.1840\n",
      "Epoch 11/32\n",
      "73/73 [==============================] - 26s 357ms/step - loss: 2.0284 - acc: 0.2890 - val_loss: 1.9799 - val_acc: 0.1840\n",
      "Epoch 12/32\n",
      "73/73 [==============================] - 26s 357ms/step - loss: 2.0812 - acc: 0.2860 - val_loss: 1.9884 - val_acc: 0.1840\n",
      "Epoch 13/32\n",
      "73/73 [==============================] - 26s 357ms/step - loss: 2.0639 - acc: 0.2941 - val_loss: 2.0153 - val_acc: 0.1840\n",
      "Epoch 14/32\n",
      "73/73 [==============================] - 26s 359ms/step - loss: 2.0454 - acc: 0.3014 - val_loss: 2.0037 - val_acc: 0.1840\n",
      "Epoch 15/32\n",
      "73/73 [==============================] - 26s 358ms/step - loss: 2.0340 - acc: 0.2898 - val_loss: 1.9728 - val_acc: 0.2914\n",
      "Epoch 16/32\n",
      "73/73 [==============================] - 26s 357ms/step - loss: 2.0051 - acc: 0.2911 - val_loss: 2.0220 - val_acc: 0.1840\n",
      "Epoch 17/32\n",
      "73/73 [==============================] - 26s 361ms/step - loss: 2.0122 - acc: 0.2872 - val_loss: 2.0273 - val_acc: 0.1840\n",
      "Epoch 18/32\n",
      "73/73 [==============================] - 26s 357ms/step - loss: 2.0624 - acc: 0.2920 - val_loss: 1.9806 - val_acc: 0.2914\n",
      "Epoch 19/32\n",
      "73/73 [==============================] - 26s 359ms/step - loss: 2.0500 - acc: 0.2958 - val_loss: 1.9655 - val_acc: 0.2914\n",
      "Epoch 20/32\n",
      "73/73 [==============================] - 26s 357ms/step - loss: 2.0699 - acc: 0.2864 - val_loss: 1.9884 - val_acc: 0.1840\n",
      "Epoch 21/32\n",
      "73/73 [==============================] - 26s 360ms/step - loss: 2.0159 - acc: 0.2864 - val_loss: 2.0094 - val_acc: 0.1840\n",
      "Epoch 22/32\n",
      "73/73 [==============================] - 26s 357ms/step - loss: 2.0637 - acc: 0.2795 - val_loss: 1.9992 - val_acc: 0.1840\n",
      "Epoch 23/32\n",
      "73/73 [==============================] - 26s 356ms/step - loss: 2.0693 - acc: 0.2962 - val_loss: 1.9904 - val_acc: 0.1840\n",
      "Epoch 24/32\n",
      "73/73 [==============================] - 26s 360ms/step - loss: 2.0969 - acc: 0.2949 - val_loss: 1.9730 - val_acc: 0.2914\n",
      "Epoch 25/32\n",
      "73/73 [==============================] - 26s 357ms/step - loss: 2.0953 - acc: 0.2967 - val_loss: 2.0450 - val_acc: 0.1840\n",
      "Epoch 26/32\n",
      "73/73 [==============================] - 26s 359ms/step - loss: 1.9936 - acc: 0.2825 - val_loss: 2.0028 - val_acc: 0.2914\n",
      "Epoch 27/32\n",
      "73/73 [==============================] - 26s 360ms/step - loss: 2.0665 - acc: 0.2872 - val_loss: 1.9767 - val_acc: 0.2914\n",
      "Epoch 28/32\n",
      "73/73 [==============================] - 26s 358ms/step - loss: 2.0553 - acc: 0.2890 - val_loss: 2.0372 - val_acc: 0.1840\n",
      "Epoch 29/32\n",
      "73/73 [==============================] - 26s 360ms/step - loss: 2.0281 - acc: 0.2864 - val_loss: 2.0031 - val_acc: 0.1840\n",
      "Epoch 30/32\n",
      "73/73 [==============================] - 26s 362ms/step - loss: 2.0218 - acc: 0.2911 - val_loss: 2.0193 - val_acc: 0.1840\n",
      "Epoch 31/32\n",
      "73/73 [==============================] - 26s 360ms/step - loss: 2.0298 - acc: 0.2915 - val_loss: 2.0234 - val_acc: 0.1840\n",
      "Epoch 32/32\n",
      "73/73 [==============================] - 26s 360ms/step - loss: 2.0165 - acc: 0.2937 - val_loss: 2.0082 - val_acc: 0.1840\n"
     ]
    }
   ],
   "source": [
    "checkpointer = keras.callbacks.ModelCheckpoint(filepath = 'D:/Fall 18/Neural Networks/Project/Dataset for Tensorflow/checkp_tanh.hdf5', monitor='val_acc', verbose=0, save_best_only=False, save_weights_only=False, mode='auto', period=1)\n",
    "\n",
    "plot_compare_1 = classifier.fit_generator(training_set,\n",
    "                    steps_per_epoch=(2336/32),\n",
    "                    epochs = 32,\n",
    "                    validation_data=test_set,\n",
    "                    validation_steps=(549/32), callbacks = [checkpointer])"
   ]
  },
  {
   "cell_type": "code",
   "execution_count": 16,
   "metadata": {},
   "outputs": [
    {
     "data": {
      "text/plain": [
       "[0.29143898001785484,\n",
       " 0.2914389801807091,\n",
       " 0.18397085610200364,\n",
       " 0.1839708561562884,\n",
       " 0.29143898001785484,\n",
       " 0.2914389801807091,\n",
       " 0.1839708561562884,\n",
       " 0.18397085610200364,\n",
       " 0.18397085612914602,\n",
       " 0.18397085610200364,\n",
       " 0.18397085612914602,\n",
       " 0.18397085610200364,\n",
       " 0.18397085612914602,\n",
       " 0.18397085631914262,\n",
       " 0.2914389799907125,\n",
       " 0.18397085610200364,\n",
       " 0.18397085612914602,\n",
       " 0.2914389799907125,\n",
       " 0.2914389799907125,\n",
       " 0.18397085612914602,\n",
       " 0.18397085610200364,\n",
       " 0.18397085610200364,\n",
       " 0.18397085610200364,\n",
       " 0.2914389799907125,\n",
       " 0.18397085610200364,\n",
       " 0.29143898001785484,\n",
       " 0.29143898001785484,\n",
       " 0.18397085612914602,\n",
       " 0.1839708561562884,\n",
       " 0.18397085610200364,\n",
       " 0.18397085610200364,\n",
       " 0.1839708561562884]"
      ]
     },
     "execution_count": 16,
     "metadata": {},
     "output_type": "execute_result"
    }
   ],
   "source": [
    "plot_compare_1.history['val_acc']"
   ]
  },
  {
   "cell_type": "code",
   "execution_count": 17,
   "metadata": {},
   "outputs": [
    {
     "data": {
      "text/plain": [
       "[0.300513698630137,\n",
       " 0.2966609589041096,\n",
       " 0.2940924657534247,\n",
       " 0.2838184931506849,\n",
       " 0.2786815068493151,\n",
       " 0.3035102739726027,\n",
       " 0.2838184931506849,\n",
       " 0.2829623287671233,\n",
       " 0.2863869863013699,\n",
       " 0.2889554794520548,\n",
       " 0.2889554794520548,\n",
       " 0.285958904109589,\n",
       " 0.2940924657534247,\n",
       " 0.3013698630136986,\n",
       " 0.2898116438356164,\n",
       " 0.2910958904109589,\n",
       " 0.2872431506849315,\n",
       " 0.2919520547945205,\n",
       " 0.2958047945205479,\n",
       " 0.2863869863013699,\n",
       " 0.2863869863013699,\n",
       " 0.2795376712328767,\n",
       " 0.2962328767123288,\n",
       " 0.2949486301369863,\n",
       " 0.2966609589041096,\n",
       " 0.2825342465753425,\n",
       " 0.2872431506849315,\n",
       " 0.2889554794520548,\n",
       " 0.2863869863013699,\n",
       " 0.2910958904109589,\n",
       " 0.2915239726027397,\n",
       " 0.2936643835616438]"
      ]
     },
     "execution_count": 17,
     "metadata": {},
     "output_type": "execute_result"
    }
   ],
   "source": [
    "plot_compare_1.history['acc']"
   ]
  },
  {
   "cell_type": "code",
   "execution_count": null,
   "metadata": {},
   "outputs": [],
   "source": []
  }
 ],
 "metadata": {
  "kernelspec": {
   "display_name": "Python 3",
   "language": "python",
   "name": "python3"
  },
  "language_info": {
   "codemirror_mode": {
    "name": "ipython",
    "version": 3
   },
   "file_extension": ".py",
   "mimetype": "text/x-python",
   "name": "python",
   "nbconvert_exporter": "python",
   "pygments_lexer": "ipython3",
   "version": "3.6.5"
  }
 },
 "nbformat": 4,
 "nbformat_minor": 2
}
