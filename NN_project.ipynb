{
 "cells": [
  {
   "cell_type": "markdown",
   "metadata": {},
   "source": [
    "### Importing Libraries"
   ]
  },
  {
   "cell_type": "code",
   "execution_count": 1,
   "metadata": {},
   "outputs": [],
   "source": [
    "import pandas as pd\n",
    "import numpy as np\n",
    "import matplotlib as plt"
   ]
  },
  {
   "cell_type": "markdown",
   "metadata": {},
   "source": [
    "### Importing Keras"
   ]
  },
  {
   "cell_type": "code",
   "execution_count": 2,
   "metadata": {},
   "outputs": [
    {
     "name": "stderr",
     "output_type": "stream",
     "text": [
      "C:\\Users\\kingsumedh\\Anaconda3\\lib\\site-packages\\h5py\\__init__.py:36: FutureWarning: Conversion of the second argument of issubdtype from `float` to `np.floating` is deprecated. In future, it will be treated as `np.float64 == np.dtype(float).type`.\n",
      "  from ._conv import register_converters as _register_converters\n",
      "Using TensorFlow backend.\n"
     ]
    }
   ],
   "source": [
    "import keras"
   ]
  },
  {
   "cell_type": "markdown",
   "metadata": {},
   "source": [
    "### Importing Keras Models"
   ]
  },
  {
   "cell_type": "code",
   "execution_count": 3,
   "metadata": {},
   "outputs": [],
   "source": [
    "from keras.models import Sequential\n",
    "from keras.layers import Convolution2D\n",
    "from keras.layers import MaxPooling2D\n",
    "from keras.layers import Flatten\n",
    "from keras.layers import Dense\n",
    "from keras import regularizers\n",
    "from keras.layers import Dropout\n",
    "from keras.callbacks import ModelCheckpoint\n",
    "import pandas_profiling"
   ]
  },
  {
   "cell_type": "markdown",
   "metadata": {},
   "source": [
    "### Running on tensorflow-gpu"
   ]
  },
  {
   "cell_type": "code",
   "execution_count": 4,
   "metadata": {},
   "outputs": [
    {
     "name": "stdout",
     "output_type": "stream",
     "text": [
      "[name: \"/device:CPU:0\"\n",
      "device_type: \"CPU\"\n",
      "memory_limit: 268435456\n",
      "locality {\n",
      "}\n",
      "incarnation: 15162851217811218183\n",
      ", name: \"/device:GPU:0\"\n",
      "device_type: \"GPU\"\n",
      "memory_limit: 6693025874\n",
      "locality {\n",
      "  bus_id: 1\n",
      "  links {\n",
      "  }\n",
      "}\n",
      "incarnation: 9599386621594048729\n",
      "physical_device_desc: \"device: 0, name: GeForce GTX 1070, pci bus id: 0000:01:00.0, compute capability: 6.1\"\n",
      "]\n"
     ]
    }
   ],
   "source": [
    "# import tensorflow as tf\n",
    "# #cpu - gpu configuration\n",
    "# config = tf.ConfigProto( device_count = {'GPU': 1 , 'CPU': 56} ) #max: 1 gpu, 56 cpu\n",
    "# sess = tf.Session(config=config) \n",
    "# keras.backend.set_session(sess)\n",
    "\n",
    "from tensorflow.python.client import device_lib\n",
    "print(device_lib.list_local_devices())"
   ]
  },
  {
   "cell_type": "markdown",
   "metadata": {},
   "source": [
    "### Loading the data"
   ]
  },
  {
   "cell_type": "code",
   "execution_count": 5,
   "metadata": {},
   "outputs": [],
   "source": [
    "from keras.preprocessing.image import ImageDataGenerator\n",
    "from PIL import Image"
   ]
  },
  {
   "cell_type": "code",
   "execution_count": 6,
   "metadata": {},
   "outputs": [],
   "source": [
    "train_datagen = ImageDataGenerator(rescale=1./255,\n",
    "                                  shear_range=0.2,\n",
    "                                  zoom_range=0.2,\n",
    "                                  horizontal_flip=True)"
   ]
  },
  {
   "cell_type": "code",
   "execution_count": 7,
   "metadata": {},
   "outputs": [],
   "source": [
    "test_datagen = ImageDataGenerator(rescale=1./255)"
   ]
  },
  {
   "cell_type": "code",
   "execution_count": 8,
   "metadata": {},
   "outputs": [
    {
     "name": "stdout",
     "output_type": "stream",
     "text": [
      "Found 2336 images belonging to 10 classes.\n"
     ]
    }
   ],
   "source": [
    "training_set = train_datagen.flow_from_directory('D:/Fall 18/Neural Networks/Project/Dataset for Tensorflow/Train',\n",
    "                                                 target_size=(256, 256),\n",
    "                                                 batch_size= 32,\n",
    "                                                 class_mode='categorical')"
   ]
  },
  {
   "cell_type": "code",
   "execution_count": 9,
   "metadata": {},
   "outputs": [
    {
     "name": "stdout",
     "output_type": "stream",
     "text": [
      "Found 549 images belonging to 10 classes.\n"
     ]
    }
   ],
   "source": [
    "test_set = test_datagen.flow_from_directory('D:/Fall 18/Neural Networks/Project/Dataset for Tensorflow/Test',\n",
    "                                                        target_size = (256, 256),\n",
    "                                                        batch_size = 32,\n",
    "                                                        class_mode = 'categorical')"
   ]
  },
  {
   "cell_type": "markdown",
   "metadata": {},
   "source": [
    "### Model with tanh activation"
   ]
  },
  {
   "cell_type": "code",
   "execution_count": 10,
   "metadata": {},
   "outputs": [],
   "source": [
    "classifier = Sequential()\n",
    "# Layer1\n",
    "classifier.add(Convolution2D(128, (3, 3), input_shape = (256, 256,3), activation = 'tanh'))\n",
    "\n",
    "# Layer 2\n",
    "classifier.add(Convolution2D(64, (3, 3), activation = 'tanh'))\n",
    "\n",
    "# Pooling Layer\n",
    "classifier.add(MaxPooling2D(pool_size = (2, 2)))\n",
    "\n",
    "#Adding another layer\n",
    "classifier.add(Convolution2D(32, (3, 3), activation = 'tanh'))\n",
    "\n",
    "#Pooling\n",
    "classifier.add(MaxPooling2D(pool_size = (2, 2)))\n",
    "\n",
    "#Adding another layer\n",
    "classifier.add(Convolution2D(32, (3, 3), activation = 'tanh'))\n",
    "\n",
    "\n",
    "#Pooling\n",
    "classifier.add(MaxPooling2D(pool_size = (2, 2)))"
   ]
  },
  {
   "cell_type": "code",
   "execution_count": 11,
   "metadata": {},
   "outputs": [],
   "source": [
    "#Step 3- Flattening\n",
    "classifier.add(Flatten())\n",
    "\n",
    "#Step 4- Full connection\n",
    "classifier.add(Dense(units = 128, activation = 'tanh'))\n",
    "\n",
    "#For the output step\n",
    "classifier.add(Dense(units = 10, activation = 'softmax'))\n",
    "classifier.add(Dropout(0.01))"
   ]
  },
  {
   "cell_type": "code",
   "execution_count": 12,
   "metadata": {},
   "outputs": [],
   "source": [
    "classifier.compile(optimizer = 'adam',loss = 'categorical_crossentropy', metrics = ['accuracy'])"
   ]
  },
  {
   "cell_type": "markdown",
   "metadata": {},
   "source": [
    "### Training the model"
   ]
  },
  {
   "cell_type": "code",
   "execution_count": 14,
   "metadata": {},
   "outputs": [
    {
     "name": "stdout",
     "output_type": "stream",
     "text": [
      "Epoch 1/32\n",
      "73/73 [==============================] - 27s 370ms/step - loss: 3.1034 - acc: 0.2521 - val_loss: 2.0572 - val_acc: 0.1858\n",
      "Epoch 2/32\n",
      "73/73 [==============================] - 25s 338ms/step - loss: 2.0357 - acc: 0.2920 - val_loss: 1.9774 - val_acc: 0.1931\n",
      "Epoch 3/32\n",
      "73/73 [==============================] - 25s 342ms/step - loss: 2.0667 - acc: 0.2791 - val_loss: 1.9992 - val_acc: 0.2987\n",
      "Epoch 4/32\n",
      "73/73 [==============================] - 25s 342ms/step - loss: 2.0561 - acc: 0.2842 - val_loss: 1.9781 - val_acc: 0.3042\n",
      "Epoch 5/32\n",
      "73/73 [==============================] - 25s 347ms/step - loss: 1.9999 - acc: 0.2894 - val_loss: 1.9918 - val_acc: 0.2696\n",
      "Epoch 6/32\n",
      "73/73 [==============================] - 25s 343ms/step - loss: 2.0082 - acc: 0.2932 - val_loss: 1.9700 - val_acc: 0.1821\n",
      "Epoch 7/32\n",
      "73/73 [==============================] - 25s 343ms/step - loss: 2.0782 - acc: 0.2855 - val_loss: 2.0079 - val_acc: 0.1858\n",
      "Epoch 8/32\n",
      "73/73 [==============================] - 25s 342ms/step - loss: 2.0496 - acc: 0.2902 - val_loss: 2.0213 - val_acc: 0.1712\n",
      "Epoch 9/32\n",
      "73/73 [==============================] - 25s 343ms/step - loss: 2.0806 - acc: 0.2830 - val_loss: 1.9912 - val_acc: 0.1931\n",
      "Epoch 10/32\n",
      "73/73 [==============================] - 25s 344ms/step - loss: 2.0493 - acc: 0.2872 - val_loss: 2.0091 - val_acc: 0.1876\n",
      "Epoch 11/32\n",
      "73/73 [==============================] - 25s 343ms/step - loss: 2.0675 - acc: 0.2787 - val_loss: 1.9495 - val_acc: 0.3078\n",
      "Epoch 12/32\n",
      "73/73 [==============================] - 25s 342ms/step - loss: 2.0400 - acc: 0.2932 - val_loss: 1.9886 - val_acc: 0.1749\n",
      "Epoch 13/32\n",
      "73/73 [==============================] - 25s 344ms/step - loss: 2.0818 - acc: 0.2932 - val_loss: 1.9612 - val_acc: 0.3169\n",
      "Epoch 14/32\n",
      "73/73 [==============================] - 25s 344ms/step - loss: 2.0658 - acc: 0.2744 - val_loss: 2.0449 - val_acc: 0.1767\n",
      "Epoch 15/32\n",
      "73/73 [==============================] - 25s 349ms/step - loss: 1.9971 - acc: 0.2834 - val_loss: 1.9581 - val_acc: 0.3005\n",
      "Epoch 16/32\n",
      "73/73 [==============================] - 25s 348ms/step - loss: 2.0199 - acc: 0.2860 - val_loss: 1.9557 - val_acc: 0.2951\n",
      "Epoch 17/32\n",
      "73/73 [==============================] - 25s 349ms/step - loss: 2.0145 - acc: 0.3048 - val_loss: 2.0555 - val_acc: 0.1730\n",
      "Epoch 18/32\n",
      "73/73 [==============================] - 26s 350ms/step - loss: 2.0383 - acc: 0.2753 - val_loss: 1.9955 - val_acc: 0.2659\n",
      "Epoch 19/32\n",
      "73/73 [==============================] - 25s 342ms/step - loss: 2.0429 - acc: 0.2915 - val_loss: 2.0563 - val_acc: 0.1803\n",
      "Epoch 20/32\n",
      "73/73 [==============================] - 25s 344ms/step - loss: 2.0519 - acc: 0.2890 - val_loss: 1.9867 - val_acc: 0.1785\n",
      "Epoch 21/32\n",
      "73/73 [==============================] - 25s 344ms/step - loss: 2.0566 - acc: 0.2941 - val_loss: 1.9835 - val_acc: 0.1985\n",
      "Epoch 22/32\n",
      "73/73 [==============================] - 25s 348ms/step - loss: 2.0394 - acc: 0.2928 - val_loss: 2.0037 - val_acc: 0.2860\n",
      "Epoch 23/32\n",
      "73/73 [==============================] - 26s 350ms/step - loss: 2.0403 - acc: 0.2812 - val_loss: 1.9804 - val_acc: 0.2933\n",
      "Epoch 24/32\n",
      "73/73 [==============================] - 25s 345ms/step - loss: 2.0231 - acc: 0.2860 - val_loss: 2.0004 - val_acc: 0.2914\n",
      "Epoch 25/32\n",
      "73/73 [==============================] - 26s 362ms/step - loss: 2.0094 - acc: 0.2898 - val_loss: 1.9702 - val_acc: 0.2933\n",
      "Epoch 26/32\n",
      "73/73 [==============================] - 25s 347ms/step - loss: 2.0244 - acc: 0.3095 - val_loss: 2.0372 - val_acc: 0.1803\n",
      "Epoch 27/32\n",
      "73/73 [==============================] - 25s 342ms/step - loss: 2.0429 - acc: 0.2898 - val_loss: 1.9708 - val_acc: 0.1840\n",
      "Epoch 28/32\n",
      "73/73 [==============================] - 25s 343ms/step - loss: 2.0055 - acc: 0.2842 - val_loss: 2.0734 - val_acc: 0.1639\n",
      "Epoch 29/32\n",
      "73/73 [==============================] - 25s 344ms/step - loss: 2.0587 - acc: 0.2924 - val_loss: 1.9762 - val_acc: 0.1931\n",
      "Epoch 30/32\n",
      "73/73 [==============================] - 25s 342ms/step - loss: 2.0323 - acc: 0.2872 - val_loss: 1.9956 - val_acc: 0.2787\n",
      "Epoch 31/32\n",
      "73/73 [==============================] - 25s 342ms/step - loss: 2.0941 - acc: 0.2975 - val_loss: 1.9869 - val_acc: 0.1949\n",
      "Epoch 32/32\n",
      "73/73 [==============================] - 25s 342ms/step - loss: 2.0487 - acc: 0.2949 - val_loss: 1.9831 - val_acc: 0.3097\n"
     ]
    }
   ],
   "source": [
    "checkpointer = keras.callbacks.ModelCheckpoint(filepath = 'D:/Fall 18/Neural Networks/Project/Dataset for Tensorflow/checkp.hdf5', monitor='val_acc', verbose=0, save_best_only=False, save_weights_only=False, mode='auto', period=1)\n",
    "\n",
    "plot_compare_1 = classifier.fit_generator(training_set,\n",
    "                    steps_per_epoch=(2336/32),\n",
    "                    epochs = 32,\n",
    "                    validation_data=test_set,\n",
    "                    validation_steps=(549/32), callbacks = [checkpointer])"
   ]
  },
  {
   "cell_type": "markdown",
   "metadata": {},
   "source": [
    "### Model with 'ReLU' activation "
   ]
  },
  {
   "cell_type": "code",
   "execution_count": 15,
   "metadata": {},
   "outputs": [],
   "source": [
    "classifier = Sequential()"
   ]
  },
  {
   "cell_type": "code",
   "execution_count": 16,
   "metadata": {},
   "outputs": [],
   "source": [
    "#Creating the method for model\n",
    "#Step 1- Convolution\n",
    "classifier.add(Convolution2D(128, (3, 3), input_shape = (256, 256,3), activation = 'relu'))\n",
    "\n",
    "#adding another layer\n",
    "classifier.add(Convolution2D(64, (3, 3), activation = 'relu'))\n",
    "\n",
    "#Max pooling it\n",
    "classifier.add(MaxPooling2D(pool_size = (2, 2)))\n",
    "\n",
    "#Adding another layer\n",
    "classifier.add(Convolution2D(32, (3, 3), activation = 'relu'))\n",
    "\n",
    "\n",
    "#Pooling\n",
    "classifier.add(MaxPooling2D(pool_size = (2, 2)))\n",
    "\n",
    "#Adding another layer\n",
    "classifier.add(Convolution2D(32, (3, 3), activation = 'relu'))\n",
    "\n",
    "\n",
    "#Pooling\n",
    "classifier.add(MaxPooling2D(pool_size = (2, 2)))\n"
   ]
  },
  {
   "cell_type": "code",
   "execution_count": 17,
   "metadata": {},
   "outputs": [],
   "source": [
    "#Add reularizers\n",
    "#classifier.add(Dense(128, input_dim = 64, classifier.add(Dense(128, input_dim = 64, classifier.add(Dense(128, input_dim = 64, classifier.add(Dense(128, input_dim = 64, \n",
    "#                      kernel_regularizer = regularizers.l1(0.001), \n",
    "#                      activity_regularizer = regularizers.l1(0.001), activation = 'relu'))"
   ]
  },
  {
   "cell_type": "code",
   "execution_count": 18,
   "metadata": {},
   "outputs": [],
   "source": [
    "#Step 3- Flattening\n",
    "classifier.add(Flatten())\n",
    "\n",
    "#Step 4- Full connection\n",
    "classifier.add(Dense(units = 128, activation = 'relu'))\n",
    "\n",
    "#For the output step\n",
    "classifier.add(Dense(units = 10, activation = 'softmax'))\n",
    "classifier.add(Dropout(0.01))"
   ]
  },
  {
   "cell_type": "code",
   "execution_count": 19,
   "metadata": {},
   "outputs": [],
   "source": [
    "classifier.compile(optimizer = 'adam',loss = 'categorical_crossentropy', metrics = ['accuracy'])"
   ]
  },
  {
   "cell_type": "code",
   "execution_count": 20,
   "metadata": {},
   "outputs": [
    {
     "name": "stdout",
     "output_type": "stream",
     "text": [
      "Epoch 1/32\n",
      "73/73 [==============================] - 28s 379ms/step - loss: 1.4400 - acc: 0.5908 - val_loss: 0.6541 - val_acc: 0.8015\n",
      "Epoch 2/32\n",
      "73/73 [==============================] - 25s 342ms/step - loss: 0.7072 - acc: 0.8283 - val_loss: 0.4759 - val_acc: 0.8342\n",
      "Epoch 3/32\n",
      "73/73 [==============================] - 25s 343ms/step - loss: 0.5099 - acc: 0.8741 - val_loss: 0.4008 - val_acc: 0.8725\n",
      "Epoch 4/32\n",
      "73/73 [==============================] - 25s 345ms/step - loss: 0.5278 - acc: 0.8930 - val_loss: 0.3512 - val_acc: 0.8834\n",
      "Epoch 5/32\n",
      "73/73 [==============================] - 25s 341ms/step - loss: 0.4196 - acc: 0.9062 - val_loss: 0.3180 - val_acc: 0.9016\n",
      "Epoch 6/32\n",
      "73/73 [==============================] - 25s 341ms/step - loss: 0.3528 - acc: 0.9152 - val_loss: 0.4237 - val_acc: 0.8725\n",
      "Epoch 7/32\n",
      "73/73 [==============================] - 25s 346ms/step - loss: 0.2855 - acc: 0.9401 - val_loss: 0.3001 - val_acc: 0.9180\n",
      "Epoch 8/32\n",
      "73/73 [==============================] - 25s 345ms/step - loss: 0.2551 - acc: 0.9525 - val_loss: 0.3129 - val_acc: 0.9180\n",
      "Epoch 9/32\n",
      "73/73 [==============================] - 25s 348ms/step - loss: 0.2427 - acc: 0.9542 - val_loss: 0.4466 - val_acc: 0.8925\n",
      "Epoch 10/32\n",
      "73/73 [==============================] - 25s 342ms/step - loss: 0.2233 - acc: 0.9555 - val_loss: 0.3415 - val_acc: 0.9071\n",
      "Epoch 11/32\n",
      "73/73 [==============================] - 25s 348ms/step - loss: 0.3187 - acc: 0.9551 - val_loss: 0.2741 - val_acc: 0.9290\n",
      "Epoch 12/32\n",
      "73/73 [==============================] - 25s 344ms/step - loss: 0.2080 - acc: 0.9589 - val_loss: 0.3704 - val_acc: 0.9180\n",
      "Epoch 13/32\n",
      "73/73 [==============================] - 26s 350ms/step - loss: 0.2106 - acc: 0.9645 - val_loss: 0.3060 - val_acc: 0.9235\n",
      "Epoch 14/32\n",
      "73/73 [==============================] - 25s 342ms/step - loss: 0.2191 - acc: 0.9692 - val_loss: 0.3016 - val_acc: 0.9344\n",
      "Epoch 15/32\n",
      "73/73 [==============================] - 25s 342ms/step - loss: 0.2166 - acc: 0.9653 - val_loss: 0.3581 - val_acc: 0.9199\n",
      "Epoch 16/32\n",
      "73/73 [==============================] - 25s 343ms/step - loss: 0.2115 - acc: 0.9717 - val_loss: 0.3522 - val_acc: 0.9199\n",
      "Epoch 17/32\n",
      "73/73 [==============================] - 25s 342ms/step - loss: 0.2206 - acc: 0.9713 - val_loss: 0.3954 - val_acc: 0.9235\n",
      "Epoch 18/32\n",
      "73/73 [==============================] - 25s 342ms/step - loss: 0.2723 - acc: 0.9623 - val_loss: 0.3761 - val_acc: 0.9253\n",
      "Epoch 19/32\n",
      "73/73 [==============================] - 25s 343ms/step - loss: 0.2822 - acc: 0.9610 - val_loss: 0.4137 - val_acc: 0.9162\n",
      "Epoch 20/32\n",
      "73/73 [==============================] - 25s 342ms/step - loss: 0.1987 - acc: 0.9705 - val_loss: 0.4290 - val_acc: 0.9071\n",
      "Epoch 21/32\n",
      "73/73 [==============================] - 25s 342ms/step - loss: 0.1692 - acc: 0.9777 - val_loss: 0.3823 - val_acc: 0.9089\n",
      "Epoch 22/32\n",
      "73/73 [==============================] - 25s 345ms/step - loss: 0.2209 - acc: 0.9709 - val_loss: 0.3528 - val_acc: 0.9290\n",
      "Epoch 23/32\n",
      "73/73 [==============================] - 25s 344ms/step - loss: 0.2052 - acc: 0.9717 - val_loss: 0.2549 - val_acc: 0.9271\n",
      "Epoch 24/32\n",
      "73/73 [==============================] - 25s 341ms/step - loss: 0.2211 - acc: 0.9696 - val_loss: 0.3423 - val_acc: 0.9180\n",
      "Epoch 25/32\n",
      "73/73 [==============================] - 25s 343ms/step - loss: 0.1825 - acc: 0.9756 - val_loss: 0.3289 - val_acc: 0.9326\n",
      "Epoch 26/32\n",
      "73/73 [==============================] - 25s 343ms/step - loss: 0.1956 - acc: 0.9812 - val_loss: 0.3027 - val_acc: 0.9253\n",
      "Epoch 27/32\n",
      "73/73 [==============================] - 25s 344ms/step - loss: 0.2105 - acc: 0.9833 - val_loss: 0.3392 - val_acc: 0.9381\n",
      "Epoch 28/32\n",
      "73/73 [==============================] - 25s 343ms/step - loss: 0.1351 - acc: 0.9876 - val_loss: 0.3250 - val_acc: 0.9326\n",
      "Epoch 29/32\n",
      "73/73 [==============================] - 25s 342ms/step - loss: 0.1579 - acc: 0.9799 - val_loss: 0.5945 - val_acc: 0.9016\n",
      "Epoch 30/32\n",
      "73/73 [==============================] - 25s 342ms/step - loss: 0.1910 - acc: 0.9765 - val_loss: 0.2921 - val_acc: 0.9344\n",
      "Epoch 31/32\n",
      "73/73 [==============================] - 25s 342ms/step - loss: 0.1882 - acc: 0.9824 - val_loss: 0.3237 - val_acc: 0.9344\n",
      "Epoch 32/32\n",
      "73/73 [==============================] - 26s 356ms/step - loss: 0.1774 - acc: 0.9812 - val_loss: 0.3946 - val_acc: 0.9253\n"
     ]
    }
   ],
   "source": [
    "#Dropout = classifier.add(Dropout(0.2))\n",
    "\n",
    "checkpointer = keras.callbacks.ModelCheckpoint(filepath = 'D:/Fall 18/Neural Networks/Project/Dataset for Tensorflow/checkp.hdf5', monitor='val_acc', verbose=0, save_best_only=False, save_weights_only=False, mode='auto', period=1)\n",
    "\n",
    "plot_compare = classifier.fit_generator(training_set,\n",
    "                    steps_per_epoch=(2336/32),\n",
    "                    epochs = 32,\n",
    "                    validation_data=test_set,\n",
    "                    validation_steps=(549/32), callbacks = [checkpointer])"
   ]
  },
  {
   "cell_type": "markdown",
   "metadata": {},
   "source": [
    "### Plotting the validation accuracy between relu and tanh activation function"
   ]
  },
  {
   "cell_type": "code",
   "execution_count": 32,
   "metadata": {},
   "outputs": [
    {
     "data": {
      "image/png": "[encoded data removed]",
      "text/plain": [
       "<Figure size 432x288 with 1 Axes>"
      ]
     },
     "metadata": {},
     "output_type": "display_data"
    }
   ],
   "source": [
    "import matplotlib.pyplot as pllt\n",
    "%matplotlib inline\n",
    "pllt.plot(plot_compare.history['val_acc'])\n",
    "pllt.plot(plot_compare_1.history['val_acc'])\n",
    "pllt.title('Validation accuracy comparison of relu and tanh')\n",
    "pllt.ylabel('Accuracy %')\n",
    "pllt.xlabel('Number of epoch')\n",
    "pllt.legend(['Relu', 'tanh'])\n",
    "pllt.show()"
   ]
  },
  {
   "cell_type": "markdown",
   "metadata": {},
   "source": [
    "### Plotting the loss between relu and tanh activation function"
   ]
  },
  {
   "cell_type": "code",
   "execution_count": 30,
   "metadata": {},
   "outputs": [
    {
     "data": {
      "image/png": "[encoded data removed]",
      "text/plain": [
       "<Figure size 432x288 with 1 Axes>"
      ]
     },
     "metadata": {},
     "output_type": "display_data"
    }
   ],
   "source": [
    "import matplotlib.pyplot as pllt\n",
    "%matplotlib inline\n",
    "pllt.plot(plot_compare.history['loss'])\n",
    "pllt.plot(plot_compare_1.history['loss'])\n",
    "pllt.title('Loss comparison of relu and tanh')\n",
    "pllt.ylabel('Loss')\n",
    "pllt.xlabel('Number of epoch')\n",
    "pllt.legend(['Relu', 'tanh'])\n",
    "pllt.show()"
   ]
  },
  {
   "cell_type": "markdown",
   "metadata": {},
   "source": [
    "### Plotting the accuracy between relu and tanh activation function"
   ]
  },
  {
   "cell_type": "code",
   "execution_count": 31,
   "metadata": {},
   "outputs": [
    {
     "data": {
      "image/png": "[encoded data removed]",
      "text/plain": [
       "<Figure size 432x288 with 1 Axes>"
      ]
     },
     "metadata": {},
     "output_type": "display_data"
    }
   ],
   "source": [
    "import matplotlib.pyplot as pllt\n",
    "%matplotlib inline\n",
    "pllt.plot(plot_compare.history['acc'])\n",
    "pllt.plot(plot_compare_1.history['acc'])\n",
    "pllt.title('Accuracy comparison of relu and tanh')\n",
    "pllt.ylabel('Accuracy %')\n",
    "pllt.xlabel('Number of epoch')\n",
    "pllt.legend(['Relu', 'tanh'])\n",
    "pllt.show()"
   ]
  },
  {
   "cell_type": "code",
   "execution_count": null,
   "metadata": {},
   "outputs": [],
   "source": []
  }
 ],
 "metadata": {
  "kernelspec": {
   "display_name": "Python 3",
   "language": "python",
   "name": "python3"
  },
  "language_info": {
   "codemirror_mode": {
    "name": "ipython",
    "version": 3
   },
   "file_extension": ".py",
   "mimetype": "text/x-python",
   "name": "python",
   "nbconvert_exporter": "python",
   "pygments_lexer": "ipython3",
   "version": "3.6.5"
  }
 },
 "nbformat": 4,
 "nbformat_minor": 2
}
