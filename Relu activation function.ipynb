{
 "cells": [
  {
   "cell_type": "markdown",
   "metadata": {},
   "source": [
    "### Importing libraries"
   ]
  },
  {
   "cell_type": "code",
   "execution_count": 1,
   "metadata": {},
   "outputs": [],
   "source": [
    "import pandas as pd\n",
    "import numpy as np\n",
    "import matplotlib as plt"
   ]
  },
  {
   "cell_type": "markdown",
   "metadata": {},
   "source": [
    "### Importing keras"
   ]
  },
  {
   "cell_type": "code",
   "execution_count": 2,
   "metadata": {},
   "outputs": [
    {
     "name": "stderr",
     "output_type": "stream",
     "text": [
      "C:\\Users\\kingsumedh\\Anaconda3\\lib\\site-packages\\h5py\\__init__.py:36: FutureWarning: Conversion of the second argument of issubdtype from `float` to `np.floating` is deprecated. In future, it will be treated as `np.float64 == np.dtype(float).type`.\n",
      "  from ._conv import register_converters as _register_converters\n",
      "Using TensorFlow backend.\n"
     ]
    }
   ],
   "source": [
    "import keras"
   ]
  },
  {
   "cell_type": "markdown",
   "metadata": {},
   "source": [
    "### Importing keras models"
   ]
  },
  {
   "cell_type": "code",
   "execution_count": 3,
   "metadata": {},
   "outputs": [],
   "source": [
    "from keras.models import Sequential\n",
    "from keras.layers import Convolution2D\n",
    "from keras.layers import MaxPooling2D\n",
    "from keras.layers import Flatten\n",
    "from keras.layers import Dense\n",
    "from keras.layers import Dropout\n",
    "from keras.callbacks import ModelCheckpoint"
   ]
  },
  {
   "cell_type": "markdown",
   "metadata": {},
   "source": [
    "### Using tensorflow-gpu"
   ]
  },
  {
   "cell_type": "code",
   "execution_count": 4,
   "metadata": {},
   "outputs": [
    {
     "name": "stdout",
     "output_type": "stream",
     "text": [
      "[name: \"/device:CPU:0\"\n",
      "device_type: \"CPU\"\n",
      "memory_limit: 268435456\n",
      "locality {\n",
      "}\n",
      "incarnation: 17900095054793346010\n",
      ", name: \"/device:GPU:0\"\n",
      "device_type: \"GPU\"\n",
      "memory_limit: 6693025874\n",
      "locality {\n",
      "  bus_id: 1\n",
      "  links {\n",
      "  }\n",
      "}\n",
      "incarnation: 10359812611387600177\n",
      "physical_device_desc: \"device: 0, name: GeForce GTX 1070, pci bus id: 0000:01:00.0, compute capability: 6.1\"\n",
      "]\n"
     ]
    }
   ],
   "source": [
    "from tensorflow.python.client import device_lib\n",
    "print(device_lib.list_local_devices())"
   ]
  },
  {
   "cell_type": "markdown",
   "metadata": {},
   "source": [
    "### Loading Image dataset"
   ]
  },
  {
   "cell_type": "code",
   "execution_count": 5,
   "metadata": {},
   "outputs": [],
   "source": [
    "from keras.preprocessing.image import ImageDataGenerator\n",
    "from PIL import Image"
   ]
  },
  {
   "cell_type": "code",
   "execution_count": 6,
   "metadata": {},
   "outputs": [],
   "source": [
    "train_datagen = ImageDataGenerator(rescale=1./255,\n",
    "                                  shear_range=0.2,\n",
    "                                  zoom_range=0.2,\n",
    "                                  horizontal_flip=True)"
   ]
  },
  {
   "cell_type": "code",
   "execution_count": 7,
   "metadata": {},
   "outputs": [],
   "source": [
    "test_datagen = ImageDataGenerator(rescale=1./255)"
   ]
  },
  {
   "cell_type": "code",
   "execution_count": 8,
   "metadata": {},
   "outputs": [
    {
     "name": "stdout",
     "output_type": "stream",
     "text": [
      "Found 2336 images belonging to 10 classes.\n"
     ]
    }
   ],
   "source": [
    "training_set = train_datagen.flow_from_directory('D:/Fall 18/Neural Networks/Project/Dataset for Tensorflow/Train',\n",
    "                                                 target_size=(64, 64),\n",
    "                                                 batch_size= 32,\n",
    "                                                 class_mode='categorical')"
   ]
  },
  {
   "cell_type": "code",
   "execution_count": 9,
   "metadata": {},
   "outputs": [
    {
     "name": "stdout",
     "output_type": "stream",
     "text": [
      "Found 549 images belonging to 10 classes.\n"
     ]
    }
   ],
   "source": [
    "test_set = test_datagen.flow_from_directory('D:/Fall 18/Neural Networks/Project/Dataset for Tensorflow/Test',\n",
    "                                                        target_size = (64, 64),\n",
    "                                                        batch_size = 32,\n",
    "                                                        class_mode = 'categorical')"
   ]
  },
  {
   "cell_type": "markdown",
   "metadata": {},
   "source": [
    "### Building the model"
   ]
  },
  {
   "cell_type": "code",
   "execution_count": 10,
   "metadata": {},
   "outputs": [],
   "source": [
    "classifier = Sequential()"
   ]
  },
  {
   "cell_type": "code",
   "execution_count": 11,
   "metadata": {},
   "outputs": [],
   "source": [
    "#Creating the method for model\n",
    "#Step 1- Convolution\n",
    "classifier.add(Convolution2D(128, (3, 3), input_shape = (64, 64, 3), activation = 'relu'))\n",
    "classifier.add(Convolution2D(64, (3, 3), activation = 'relu'))\n",
    "\n",
    "#adding another layer\n",
    "classifier.add(Convolution2D(32, (3, 3), activation = 'relu'))\n",
    "\n",
    "#Pooling it\n",
    "classifier.add(MaxPooling2D(pool_size = (2, 2)))\n",
    "\n",
    "#Adding another layer\n",
    "classifier.add(Convolution2D(32, (3, 3), activation = 'relu'))\n",
    "\n",
    "\n",
    "#Pooling\n",
    "classifier.add(MaxPooling2D(pool_size = (2, 2)))\n",
    "\n",
    "#Adding another layer\n",
    "#classifier.add(Convolution2D(32, (3, 3), activation = 'relu'))\n",
    "\n",
    "\n",
    "#Pooling\n",
    "#classifier.add(MaxPooling2D(pool_size = (2, 2)))\n",
    "\n"
   ]
  },
  {
   "cell_type": "code",
   "execution_count": 12,
   "metadata": {},
   "outputs": [],
   "source": [
    "#Step 3- Flattening\n",
    "classifier.add(Flatten())\n",
    "\n",
    "#Step 4- Full connection\n",
    "classifier.add(Dense(units = 128, activation = 'relu'))\n",
    "\n",
    "#For the output step\n",
    "classifier.add(Dense(units = 10, activation = 'softmax'))\n",
    "classifier.add(Dropout(0.01))"
   ]
  },
  {
   "cell_type": "code",
   "execution_count": 13,
   "metadata": {},
   "outputs": [],
   "source": [
    "classifier.compile(optimizer = 'adam',loss = 'categorical_crossentropy', metrics = ['accuracy'])"
   ]
  },
  {
   "cell_type": "code",
   "execution_count": 14,
   "metadata": {},
   "outputs": [
    {
     "name": "stdout",
     "output_type": "stream",
     "text": [
      "Epoch 1/32\n",
      "73/73 [==============================] - 19s 263ms/step - loss: 1.4572 - acc: 0.5809 - val_loss: 0.7477 - val_acc: 0.7760\n",
      "Epoch 2/32\n",
      "73/73 [==============================] - 7s 99ms/step - loss: 0.7979 - acc: 0.7975 - val_loss: 0.5114 - val_acc: 0.8689\n",
      "Epoch 3/32\n",
      "73/73 [==============================] - 8s 108ms/step - loss: 0.5090 - acc: 0.8634 - val_loss: 0.4091 - val_acc: 0.8689\n",
      "Epoch 4/32\n",
      "73/73 [==============================] - 7s 93ms/step - loss: 0.5325 - acc: 0.8810 - val_loss: 0.3908 - val_acc: 0.8871\n",
      "Epoch 5/32\n",
      "73/73 [==============================] - 8s 108ms/step - loss: 0.4351 - acc: 0.8985 - val_loss: 0.3508 - val_acc: 0.8871\n",
      "Epoch 6/32\n",
      "73/73 [==============================] - 7s 99ms/step - loss: 0.3647 - acc: 0.9157 - val_loss: 0.3383 - val_acc: 0.8998\n",
      "Epoch 7/32\n",
      "73/73 [==============================] - 8s 110ms/step - loss: 0.3753 - acc: 0.9191 - val_loss: 0.3151 - val_acc: 0.8907\n",
      "Epoch 8/32\n",
      "73/73 [==============================] - 7s 101ms/step - loss: 0.3427 - acc: 0.9366 - val_loss: 0.2993 - val_acc: 0.9180\n",
      "Epoch 9/32\n",
      "73/73 [==============================] - 8s 103ms/step - loss: 0.3012 - acc: 0.9396 - val_loss: 0.3604 - val_acc: 0.9144\n",
      "Epoch 10/32\n",
      "73/73 [==============================] - 8s 114ms/step - loss: 0.3645 - acc: 0.9384 - val_loss: 0.3477 - val_acc: 0.8998\n",
      "Epoch 11/32\n",
      "73/73 [==============================] - 8s 116ms/step - loss: 0.2782 - acc: 0.9448 - val_loss: 0.3372 - val_acc: 0.8980\n",
      "Epoch 12/32\n",
      "73/73 [==============================] - 7s 98ms/step - loss: 0.2818 - acc: 0.9533 - val_loss: 0.3924 - val_acc: 0.8907\n",
      "Epoch 13/32\n",
      "73/73 [==============================] - 5s 74ms/step - loss: 0.2433 - acc: 0.9482 - val_loss: 0.3505 - val_acc: 0.9016\n",
      "Epoch 14/32\n",
      "73/73 [==============================] - 9s 119ms/step - loss: 0.2571 - acc: 0.9551 - val_loss: 0.3528 - val_acc: 0.8998\n",
      "Epoch 15/32\n",
      "73/73 [==============================] - 8s 110ms/step - loss: 0.2864 - acc: 0.9589 - val_loss: 0.3775 - val_acc: 0.9035\n",
      "Epoch 16/32\n",
      "73/73 [==============================] - 8s 108ms/step - loss: 0.2481 - acc: 0.9696 - val_loss: 0.4175 - val_acc: 0.8998\n",
      "Epoch 17/32\n",
      "73/73 [==============================] - 8s 115ms/step - loss: 0.2457 - acc: 0.9640 - val_loss: 0.4458 - val_acc: 0.8980\n",
      "Epoch 18/32\n",
      "73/73 [==============================] - 10s 140ms/step - loss: 0.2180 - acc: 0.9688 - val_loss: 0.3648 - val_acc: 0.9162\n",
      "Epoch 19/32\n",
      "73/73 [==============================] - 8s 103ms/step - loss: 0.2151 - acc: 0.9747 - val_loss: 0.4997 - val_acc: 0.8925\n",
      "Epoch 20/32\n",
      "73/73 [==============================] - 8s 104ms/step - loss: 0.2130 - acc: 0.9726 - val_loss: 0.4082 - val_acc: 0.9126\n",
      "Epoch 21/32\n",
      "73/73 [==============================] - 8s 103ms/step - loss: 0.1740 - acc: 0.9769 - val_loss: 0.3526 - val_acc: 0.9235\n",
      "Epoch 22/32\n",
      "73/73 [==============================] - 8s 103ms/step - loss: 0.2804 - acc: 0.9653 - val_loss: 0.4192 - val_acc: 0.9071\n",
      "Epoch 23/32\n",
      "73/73 [==============================] - 6s 82ms/step - loss: 0.2020 - acc: 0.9679 - val_loss: 0.4287 - val_acc: 0.9162\n",
      "Epoch 24/32\n",
      "73/73 [==============================] - 8s 103ms/step - loss: 0.2654 - acc: 0.9662 - val_loss: 0.4247 - val_acc: 0.9180\n",
      "Epoch 25/32\n",
      "73/73 [==============================] - 8s 103ms/step - loss: 0.1672 - acc: 0.9799 - val_loss: 0.4778 - val_acc: 0.8925\n",
      "Epoch 26/32\n",
      "73/73 [==============================] - 8s 107ms/step - loss: 0.1671 - acc: 0.9807 - val_loss: 0.3740 - val_acc: 0.9180\n",
      "Epoch 27/32\n",
      "73/73 [==============================] - 8s 110ms/step - loss: 0.1845 - acc: 0.9756 - val_loss: 0.3870 - val_acc: 0.9144\n",
      "Epoch 28/32\n",
      "73/73 [==============================] - 8s 103ms/step - loss: 0.2752 - acc: 0.9713 - val_loss: 0.3707 - val_acc: 0.8998\n",
      "Epoch 29/32\n",
      "73/73 [==============================] - 6s 87ms/step - loss: 0.1983 - acc: 0.9705 - val_loss: 0.4482 - val_acc: 0.9016\n",
      "Epoch 30/32\n",
      "73/73 [==============================] - 7s 101ms/step - loss: 0.1909 - acc: 0.9777 - val_loss: 0.6272 - val_acc: 0.8925\n",
      "Epoch 31/32\n",
      "73/73 [==============================] - 8s 103ms/step - loss: 0.2387 - acc: 0.9743 - val_loss: 0.5083 - val_acc: 0.8998\n",
      "Epoch 32/32\n",
      "73/73 [==============================] - 7s 98ms/step - loss: 0.2283 - acc: 0.9752 - val_loss: 0.5285 - val_acc: 0.9035\n"
     ]
    }
   ],
   "source": [
    "checkpointer_relu = keras.callbacks.ModelCheckpoint(filepath = 'D:/Fall 18/Neural Networks/Project/Dataset for Tensorflow/checkp_relu.hdf5', monitor='val_acc', verbose=0, save_best_only=False, save_weights_only=False, mode='auto', period=1)\n",
    "\n",
    "plot_compare = classifier.fit_generator(training_set,\n",
    "                    steps_per_epoch=(2336/32),\n",
    "                    epochs = 32,\n",
    "                    validation_data=test_set,\n",
    "                    validation_steps=(549/32), callbacks = [checkpointer_relu])"
   ]
  },
  {
   "cell_type": "markdown",
   "metadata": {},
   "source": [
    "### Inputing new image for prediction"
   ]
  },
  {
   "cell_type": "code",
   "execution_count": 23,
   "metadata": {},
   "outputs": [],
   "source": [
    "from keras.preprocessing import image as image_utils\n",
    "test_image = image_utils.load_img('D:/Fall 18/Neural Networks/Project/Dataset for Tensorflow/braint.jpg', target_size=(64, 64))\n",
    "test_image = image_utils.img_to_array(test_image)\n",
    "test_image = np.expand_dims(test_image, axis=0)"
   ]
  },
  {
   "cell_type": "code",
   "execution_count": 24,
   "metadata": {},
   "outputs": [
    {
     "data": {
      "text/plain": [
       "{'Faces': 0,\n",
       " 'Motorbikes': 1,\n",
       " 'airplanes': 2,\n",
       " 'bonsai': 3,\n",
       " 'brain': 4,\n",
       " 'buddha': 5,\n",
       " 'butterfly': 6,\n",
       " 'car_side': 7,\n",
       " 'helicopter': 8,\n",
       " 'watch': 9}"
      ]
     },
     "execution_count": 24,
     "metadata": {},
     "output_type": "execute_result"
    }
   ],
   "source": [
    "test_set.class_indices"
   ]
  },
  {
   "cell_type": "code",
   "execution_count": 25,
   "metadata": {},
   "outputs": [
    {
     "data": {
      "text/plain": [
       "array([[0., 0., 0., 0., 1., 0., 0., 0., 0., 0.]], dtype=float32)"
      ]
     },
     "execution_count": 25,
     "metadata": {},
     "output_type": "execute_result"
    }
   ],
   "source": [
    "result = classifier.predict_on_batch(test_image)\n",
    "result"
   ]
  },
  {
   "cell_type": "markdown",
   "metadata": {},
   "source": [
    "### Getting the prediction for input image"
   ]
  },
  {
   "cell_type": "code",
   "execution_count": 26,
   "metadata": {},
   "outputs": [
    {
     "name": "stdout",
     "output_type": "stream",
     "text": [
      "4\n",
      "brain\n"
     ]
    }
   ],
   "source": [
    "print(result.argmax())\n",
    "for category, value in test_set.class_indices.items():\n",
    "            if value == result.argmax():\n",
    "                print(category)"
   ]
  },
  {
   "cell_type": "markdown",
   "metadata": {},
   "source": [
    "### Plotting graph for training accuracy and validation accuracy"
   ]
  },
  {
   "cell_type": "code",
   "execution_count": 23,
   "metadata": {},
   "outputs": [
    {
     "data": {
      "image/png": "[encoded data removed]",
      "text/plain": [
       "<Figure size 432x288 with 1 Axes>"
      ]
     },
     "metadata": {},
     "output_type": "display_data"
    }
   ],
   "source": [
    "import matplotlib.pyplot as pllt\n",
    "%matplotlib inline\n",
    "pllt.plot(plot_compare.history['acc'])\n",
    "pllt.plot(plot_compare.history['val_acc'])\n",
    "pllt.title('Accuracy with number of epochs')\n",
    "pllt.ylabel('accuracy %')\n",
    "pllt.xlabel('Number of epoch')\n",
    "pllt.legend(['acc', 'val_acc'])\n",
    "pllt.show()"
   ]
  },
  {
   "cell_type": "markdown",
   "metadata": {},
   "source": [
    "### Plotting graph for loss between training and test set"
   ]
  },
  {
   "cell_type": "code",
   "execution_count": 24,
   "metadata": {},
   "outputs": [
    {
     "data": {
      "image/png": "[encoded data removed]",
      "text/plain": [
       "<Figure size 432x288 with 1 Axes>"
      ]
     },
     "metadata": {},
     "output_type": "display_data"
    }
   ],
   "source": [
    "import matplotlib.pyplot as pllt\n",
    "%matplotlib inline\n",
    "pllt.plot(plot_compare.history['loss'])\n",
    "pllt.plot(plot_compare.history['val_loss'])\n",
    "pllt.title('loss with number of epochs')\n",
    "pllt.ylabel('Loss')\n",
    "pllt.xlabel('Number of epoch')\n",
    "pllt.legend(['acc_loss', 'val_loss'])\n",
    "pllt.show()"
   ]
  },
  {
   "cell_type": "code",
   "execution_count": 25,
   "metadata": {},
   "outputs": [
    {
     "data": {
      "text/plain": [
       "[0.7486338798899902,\n",
       " 0.8633879781420765,\n",
       " 0.8615664846258737,\n",
       " 0.8724954463745076,\n",
       " 0.872495446483077,\n",
       " 0.8925318763555725,\n",
       " 0.9034608378870674,\n",
       " 0.9034608378870674,\n",
       " 0.8998178506375227,\n",
       " 0.9016393442622951,\n",
       " 0.8779599272488244,\n",
       " 0.8998178506375227,\n",
       " 0.9052823315118397,\n",
       " 0.912568306010929,\n",
       " 0.8979963570127505,\n",
       " 0.9125683061194985,\n",
       " 0.8870673952641166,\n",
       " 0.9107468123861566,\n",
       " 0.907103825136612,\n",
       " 0.9052823316204092,\n",
       " 0.9125683061194985,\n",
       " 0.907103825353751,\n",
       " 0.9052823316204092,\n",
       " 0.9089253188699539,\n",
       " 0.8961748634965476,\n",
       " 0.9143897996357013,\n",
       " 0.9052823315118397,\n",
       " 0.907103825136612,\n",
       " 0.9180327868852459,\n",
       " 0.9034608379956369,\n",
       " 0.8943533698717753,\n",
       " 0.9143897997442707]"
      ]
     },
     "execution_count": 25,
     "metadata": {},
     "output_type": "execute_result"
    }
   ],
   "source": [
    "plot_compare.history['val_acc']"
   ]
  },
  {
   "cell_type": "code",
   "execution_count": 26,
   "metadata": {},
   "outputs": [
    {
     "data": {
      "text/plain": [
       "[0.5445205479452054,\n",
       " 0.7688356164383562,\n",
       " 0.8351883561643836,\n",
       " 0.8625856164383562,\n",
       " 0.8831335616438356,\n",
       " 0.918236301369863,\n",
       " 0.9225171232876712,\n",
       " 0.9353595890410958,\n",
       " 0.9285102739726028,\n",
       " 0.9439212328767124,\n",
       " 0.946917808219178,\n",
       " 0.9516267123287672,\n",
       " 0.9584760273972602,\n",
       " 0.9601883561643836,\n",
       " 0.9747431506849316,\n",
       " 0.9648972602739726,\n",
       " 0.966181506849315,\n",
       " 0.9653253424657534,\n",
       " 0.971318493150685,\n",
       " 0.964041095890411,\n",
       " 0.9678938356164384,\n",
       " 0.9751712328767124,\n",
       " 0.9743150684931506,\n",
       " 0.9700342465753424,\n",
       " 0.9743150684931506,\n",
       " 0.973458904109589,\n",
       " 0.9619006849315068,\n",
       " 0.9730308219178082,\n",
       " 0.9747431506849316,\n",
       " 0.9811643835616438,\n",
       " 0.9764554794520548,\n",
       " 0.9790239726027398]"
      ]
     },
     "execution_count": 26,
     "metadata": {},
     "output_type": "execute_result"
    }
   ],
   "source": [
    "plot_compare.history['acc']"
   ]
  },
  {
   "cell_type": "code",
   "execution_count": null,
   "metadata": {},
   "outputs": [],
   "source": []
  }
 ],
 "metadata": {
  "kernelspec": {
   "display_name": "Python 3",
   "language": "python",
   "name": "python3"
  },
  "language_info": {
   "codemirror_mode": {
    "name": "ipython",
    "version": 3
   },
   "file_extension": ".py",
   "mimetype": "text/x-python",
   "name": "python",
   "nbconvert_exporter": "python",
   "pygments_lexer": "ipython3",
   "version": "3.6.5"
  }
 },
 "nbformat": 4,
 "nbformat_minor": 2
}
